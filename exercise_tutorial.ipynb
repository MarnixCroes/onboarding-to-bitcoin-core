{
 "cells": [
  {
   "cell_type": "markdown",
   "metadata": {
    "pycharm": {
     "name": "#%% md\n"
    }
   },
   "source": [
    "## Add Test Framework module to python path\n",
    "\n",
    "First we must add the path to Bitcoin Core's test_framework module to Python's system path so that we can import it.\n",
    "\n",
    "The `test_framework` module is found within Bitcoin Core's source directory, under `/test/functional`.\n",
    "Modify the value shown below to reflect the correct path on your system."
   ]
  },
  {
   "cell_type": "code",
   "execution_count": 3,
   "metadata": {},
   "outputs": [],
   "source": [
    "# Add the functional test framework to PATH\n",
    "import sys, os\n",
    "# The tilde '~' in the path below will expand to the user's home directory, but\n",
    "# you can also use a full absolute path if you prefer.\n",
    "sys.path.insert(0, os.path.expanduser(\"~/bitcoin/test/functional\"))"
   ]
  },
  {
   "cell_type": "markdown",
   "metadata": {
    "pycharm": {
     "name": "#%% md\n"
    }
   },
   "source": [
    "## Importing the TestShell class\n",
    "\n",
    "Next we can import the `TestShell` class from the `test_framework` module.\n",
    "This class will let us control one or more Bitcoin Core node(s) in regtest mode using python commands equivalent to the `bitcoin-cli` ones."
   ]
  },
  {
   "cell_type": "code",
   "execution_count": 4,
   "metadata": {
    "pycharm": {
     "name": "#%%\n"
    }
   },
   "outputs": [],
   "source": [
    "# Import libraries\n",
    "from test_framework.test_shell import TestShell"
   ]
  },
  {
   "cell_type": "markdown",
   "metadata": {
    "pycharm": {
     "name": "#%% md\n"
    }
   },
   "source": [
    "## Node setup\n",
    "\n",
    "Finally, we must set up one or more nodes using the `setup()` method.\n",
    "\n",
    "We can pass `bitcoind` options to each node using the `extra_args` argument.\n",
    "This is the equivalent of setting options in the config file for `bitcoind` on the command line.\n",
    "Arguments are passed in as a list of lists, one list of arguments for each node."
   ]
  },
  {
   "cell_type": "code",
   "execution_count": 5,
   "metadata": {
    "pycharm": {
     "name": "#%%\n"
    }
   },
   "outputs": [
    {
     "name": "stdout",
     "output_type": "stream",
     "text": [
      "2022-12-14T13:28:53.132000Z TestFramework (INFO): Initializing test directory /tmp/bitcoin_func_test_r8jqr6ge\n"
     ]
    }
   ],
   "source": [
    "# Setup our regtest environment\n",
    "test = TestShell().setup(\n",
    "    num_nodes=2,\n",
    "    setup_clean_chain=True,\n",
    "    extra_args=[[], ['-fallbackfee=0.0002']],\n",
    ")"
   ]
  },
  {
   "cell_type": "markdown",
   "metadata": {},
   "source": [
    "## Node control\n",
    "\n",
    "Nodes are presented as a list stored in the `nodes` attribute of the `TestShell` object.\n",
    "Simply index the list to control the required node.\n",
    "\n",
    "All Bitcoin Core RPCs are available to call as methods on the `TestShell` object you create.\n",
    "\n",
    "See the example below showing how to call the `getmemoryinfo` RPC on `node2`."
   ]
  },
  {
   "cell_type": "code",
   "execution_count": 6,
   "metadata": {
    "pycharm": {
     "name": "#%%\n"
    }
   },
   "outputs": [],
   "source": [
    "test.nodes[0].getblockchaininfo()\n",
    "\n",
    "# or\n",
    "\n",
    "node2 = test.nodes[1]\n",
    "node2.getmemoryinfo()"
   ]
  },
  {
   "cell_type": "markdown",
   "metadata": {},
   "source": [
    "## Using wallets\n",
    "\n",
    "Recent versions of Bitcoin Core will not create a wallet by default, so if you want your node to have wallet functionality you need to create one first.\n",
    "\n",
    "You can do this by running the `createwallet` RPC which has a single required argument of the wallet's name.\n",
    "By default, in recent versions this will create a \"descriptor\" wallet using sqlite as the backend database.\n",
    "This is generally what we want as the legacy wallet has mostly ceased development."
   ]
  },
  {
   "cell_type": "code",
   "execution_count": null,
   "outputs": [],
   "source": [
    "node2.createwallet(\"wallet_name\")\n",
    "node2.getwalletinfo()"
   ],
   "metadata": {
    "collapsed": false,
    "pycharm": {
     "name": "#%%\n"
    }
   }
  },
  {
   "cell_type": "markdown",
   "source": [
    "## Shutdown\n",
    "\n",
    "When you are finished, you can shut down the nodes just you would via `bitcoin-cli` by using the `shutdown()` method as shown below.\n",
    "\n",
    "If you kill the jupyter notebook server without shutting down the nodes then they are usually torn down automatically, but there is a slim chance they remain operational.\n",
    "You can check for running `bitcoind` processes using `htop` or `sudo pidof bitcoind`."
   ],
   "metadata": {
    "collapsed": false,
    "pycharm": {
     "name": "#%% md\n"
    }
   }
  },
  {
   "cell_type": "code",
   "execution_count": 7,
   "metadata": {
    "pycharm": {
     "name": "#%%\n"
    }
   },
   "outputs": [],
   "source": [
    "test.nodes[0].stop()\n",
    "test.nodes[1].stop()"
   ]
  }
 ],
 "metadata": {
  "kernelspec": {
   "display_name": "Python 3 (ipykernel)",
   "language": "python",
   "name": "python3"
  },
  "language_info": {
   "codemirror_mode": {
    "name": "ipython",
    "version": 3
   },
   "file_extension": ".py",
   "mimetype": "text/x-python",
   "name": "python",
   "nbconvert_exporter": "python",
   "pygments_lexer": "ipython3",
   "version": "3.9.7"
  }
 },
 "nbformat": 4,
 "nbformat_minor": 1
}