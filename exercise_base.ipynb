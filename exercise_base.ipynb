{
 "cells": [
  {
   "cell_type": "code",
   "execution_count": 3,
   "metadata": {
    "pycharm": {
     "name": "#%%\n"
    }
   },
   "outputs": [],
   "source": [
    "import sys, os\n",
    "from test_framework.test_shell import TestShell\n",
    "\n",
    "sys.path.insert(0, os.path.expanduser(\"~/bitcoin/test/functional\"))\n",
    "test = TestShell().setup(\n",
    "    num_nodes=2,\n",
    "    setup_clean_chain=True,\n",
    "    extra_args=[[], ['-fallbackfee=0.0002']],\n",
    ")"
   ]
  }
 ],
 "metadata": {
  "kernelspec": {
   "display_name": "Python 3 (ipykernel)",
   "language": "python",
   "name": "python3"
  },
  "language_info": {
   "codemirror_mode": {
    "name": "ipython",
    "version": 3
   },
   "file_extension": ".py",
   "mimetype": "text/x-python",
   "name": "python",
   "nbconvert_exporter": "python",
   "pygments_lexer": "ipython3",
   "version": "3.9.7"
  }
 },
 "nbformat": 4,
 "nbformat_minor": 1
}